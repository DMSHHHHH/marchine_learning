{
 "cells": [
  {
   "cell_type": "code",
   "execution_count": 2,
   "metadata": {},
   "outputs": [],
   "source": [
    "import tensorflow as tf\n",
    "import tensorflow.keras as keras\n",
    "import numpy as np"
   ]
  },
  {
   "cell_type": "code",
   "execution_count": 3,
   "metadata": {},
   "outputs": [
    {
     "name": "stdout",
     "output_type": "stream",
     "text": [
      "1.18.2\n"
     ]
    }
   ],
   "source": [
    "print(np.__version__)"
   ]
  },
  {
   "cell_type": "code",
   "execution_count": 4,
   "metadata": {},
   "outputs": [
    {
     "name": "stdout",
     "output_type": "stream",
     "text": [
      "tf.Tensor([-0.10247927 -0.11654627], shape=(2,), dtype=float32)\n",
      "tf.Tensor([0.02491572 0.05409516], shape=(2,), dtype=float32)\n"
     ]
    }
   ],
   "source": [
    "rand = tf.random_normal_initializer()\n",
    "x1 = tf.constant(rand(shape=[2,], dtype=tf.float32))\n",
    "x2 = tf.constant(rand(shape=[2,], dtype=tf.float32))\n",
    "print(x1)\n",
    "print(x2)"
   ]
  },
  {
   "cell_type": "code",
   "execution_count": 5,
   "metadata": {},
   "outputs": [],
   "source": [
    "# 欧拉距离\n",
    "def distance_Oula(x1, x2):\n",
    "    x  = tf.sqrt(keras.backend.sum(tf.square(x1-x2)))\n",
    "    return x\n",
    "\n",
    "# 曼哈顿距离\n",
    "def distance_Maht(x1, x2):\n",
    "    x  = keras.backend.sum(tf.abs(x1-x2))\n",
    "    return x\n",
    "\n",
    "# 切比雪夫距离\n",
    "def distance_Cbsv(x1, x2):\n",
    "    x = keras.backend.max(tf.abs(x1-x2))\n",
    "    return x\n",
    "\n",
    "# cos距离\n",
    "def distance_Coso(x1, x2):\n",
    "    x =  keras.backend.sum(x1 * x2) / (tf.sqrt(keras.backend.sum(tf.square(x1)))) * (tf.sqrt(keras.backend.sum(tf.square(x2))))\n",
    "    return x"
   ]
  },
  {
   "cell_type": "code",
   "execution_count": 6,
   "metadata": {},
   "outputs": [
    {
     "name": "stdout",
     "output_type": "stream",
     "text": [
      "tf.Tensor(0.21295065, shape=(), dtype=float32)\n",
      "tf.Tensor(0.2980364, shape=(), dtype=float32)\n",
      "tf.Tensor(0.17064142, shape=(), dtype=float32)\n",
      "tf.Tensor(-0.0033993372, shape=(), dtype=float32)\n"
     ]
    }
   ],
   "source": [
    "print(distance_Oula(x1, x2))\n",
    "print(distance_Maht(x1, x2))\n",
    "print(distance_Cbsv(x1, x2))\n",
    "print(distance_Coso(x1, x2))"
   ]
  },
  {
   "cell_type": "code",
   "execution_count": null,
   "metadata": {},
   "outputs": [],
   "source": [
    "#信息量的期望是熵"
   ]
  }
 ],
 "metadata": {
  "kernelspec": {
   "display_name": "tensorflow",
   "language": "python",
   "name": "tensorflow"
  },
  "language_info": {
   "codemirror_mode": {
    "name": "ipython",
    "version": 3
   },
   "file_extension": ".py",
   "mimetype": "text/x-python",
   "name": "python",
   "nbconvert_exporter": "python",
   "pygments_lexer": "ipython3",
   "version": "3.7.8"
  }
 },
 "nbformat": 4,
 "nbformat_minor": 4
}
