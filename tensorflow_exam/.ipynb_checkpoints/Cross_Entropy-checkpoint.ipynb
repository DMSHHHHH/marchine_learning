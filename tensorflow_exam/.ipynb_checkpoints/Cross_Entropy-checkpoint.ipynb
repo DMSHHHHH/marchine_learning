{
 "cells": [
  {
   "cell_type": "code",
   "execution_count": 3,
   "metadata": {},
   "outputs": [],
   "source": [
    "import tensorflow as tf\n",
    "import numpy as np"
   ]
  },
  {
   "cell_type": "code",
   "execution_count": 42,
   "metadata": {},
   "outputs": [],
   "source": [
    "# Information measure  = -log(P)\n",
    "# Entropy = E(IM) = sum(-Plog(P))\n",
    "# KL divergence = -sum(Plog(Q/P))  P Q meanse different disstirbution = -sum(Plog(Q)) + sum(Plog(P))\n",
    "# for machine learning label P  Entroy -sum(Plog(P)) = 0  because P = 1\n",
    "# so CrossEntropy  is the same as KL divergence = -sum(Plog(Q))\n",
    "# min CrossEntropy == min KL divergence, P=1, equals min -sum(log(Q)), which is samile to liklyhood function.\n",
    "# liklyhood function: - sum(log(softmax(F(X;o)))) = - log mult(softmax(F(X;o)))\n",
    "# min CrossEntropy == max log liklyhood function"
   ]
  },
  {
   "cell_type": "code",
   "execution_count": 66,
   "metadata": {},
   "outputs": [
    {
     "name": "stdout",
     "output_type": "stream",
     "text": [
      "1.0945341507385629\n",
      "1.094534158706665\n"
     ]
    }
   ],
   "source": [
    "Y = np.array([[1, 0], [0, 1], [1, 0], [0, 1], [1, 0]])\n",
    "X = np.array([[0.5, 0.5],\n",
    "              [0.4, 0.6],\n",
    "              [0.2, 0.8],\n",
    "              [0.3, 0.7],\n",
    "              [0.1, 0.9]])\n",
    "\n",
    "def cross_entropy(X, Y):\n",
    "    X = -tf.keras.backend.sum(tf.math.log(np.array(X[tf.where(Y== 1)[:,0], tf.where(Y== 1)[:,1]])))\n",
    "    return X/len(Y)\n",
    "z1 = cross_entropy(X, Y)\n",
    "z2 = tf.keras.losses.CategoricalCrossentropy()\n",
    "print(z1.numpy())\n",
    "print(z2(Y, X).numpy())"
   ]
  },
  {
   "cell_type": "code",
   "execution_count": null,
   "metadata": {},
   "outputs": [],
   "source": [
    "# PPL sentence Porbabilty mut(Xi)   Xi in sentence X. for AutoRegressive model PPL = log(Loss)"
   ]
  },
  {
   "cell_type": "code",
   "execution_count": null,
   "metadata": {},
   "outputs": [],
   "source": []
  }
 ],
 "metadata": {
  "kernelspec": {
   "display_name": "tensorflow",
   "language": "python",
   "name": "tensorflow"
  },
  "language_info": {
   "codemirror_mode": {
    "name": "ipython",
    "version": 3
   },
   "file_extension": ".py",
   "mimetype": "text/x-python",
   "name": "python",
   "nbconvert_exporter": "python",
   "pygments_lexer": "ipython3",
   "version": "3.7.8"
  }
 },
 "nbformat": 4,
 "nbformat_minor": 4
}
